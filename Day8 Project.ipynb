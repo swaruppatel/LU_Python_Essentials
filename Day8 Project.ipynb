{
 "cells": [
  {
   "cell_type": "code",
   "execution_count": 18,
   "metadata": {},
   "outputs": [
    {
     "name": "stdout",
     "output_type": "stream",
     "text": [
      "Requirement already satisfied: firebase in c:\\users\\swaru\\anaconda3\\lib\\site-packages (3.0.1)\n",
      "Requirement already satisfied: requests in c:\\users\\swaru\\anaconda3\\lib\\site-packages (from firebase) (2.24.0)\n",
      "Requirement already satisfied: urllib3!=1.25.0,!=1.25.1,<1.26,>=1.21.1 in c:\\users\\swaru\\anaconda3\\lib\\site-packages (from requests->firebase) (1.25.11)\n",
      "Requirement already satisfied: chardet<4,>=3.0.2 in c:\\users\\swaru\\anaconda3\\lib\\site-packages (from requests->firebase) (3.0.4)\n",
      "Requirement already satisfied: idna<3,>=2.5 in c:\\users\\swaru\\anaconda3\\lib\\site-packages (from requests->firebase) (2.10)\n",
      "Requirement already satisfied: certifi>=2017.4.17 in c:\\users\\swaru\\anaconda3\\lib\\site-packages (from requests->firebase) (2020.6.20)\n"
     ]
    }
   ],
   "source": [
    "!pip install firebase"
   ]
  },
  {
   "cell_type": "code",
   "execution_count": 5,
   "metadata": {},
   "outputs": [
    {
     "ename": "ValueError",
     "evalue": "The default Firebase app already exists. This means you called initialize_app() more than once without providing an app name as the second argument. In most cases you only need to call initialize_app() once. But if you do want to initialize multiple apps, pass a second argument to initialize_app() to give each app a unique name.",
     "output_type": "error",
     "traceback": [
      "\u001b[1;31m---------------------------------------------------------------------------\u001b[0m",
      "\u001b[1;31mValueError\u001b[0m                                Traceback (most recent call last)",
      "\u001b[1;32m<ipython-input-5-0899914d8c54>\u001b[0m in \u001b[0;36m<module>\u001b[1;34m\u001b[0m\n\u001b[0;32m      4\u001b[0m \u001b[1;34m\"\"\u001b[0m\u001b[1;33m\u001b[0m\u001b[1;33m\u001b[0m\u001b[0m\n\u001b[0;32m      5\u001b[0m \u001b[0mcred\u001b[0m \u001b[1;33m=\u001b[0m \u001b[0mcredentials\u001b[0m\u001b[1;33m.\u001b[0m\u001b[0mCertificate\u001b[0m\u001b[1;33m(\u001b[0m\u001b[1;34m\"lu-project-c0452-firebase-adminsdk-uqxyy-2a3e19115f.json\"\u001b[0m\u001b[1;33m)\u001b[0m\u001b[1;33m\u001b[0m\u001b[1;33m\u001b[0m\u001b[0m\n\u001b[1;32m----> 6\u001b[1;33m \u001b[0mfirebase_admin\u001b[0m\u001b[1;33m.\u001b[0m\u001b[0minitialize_app\u001b[0m\u001b[1;33m(\u001b[0m\u001b[0mcred\u001b[0m\u001b[1;33m)\u001b[0m\u001b[1;33m\u001b[0m\u001b[1;33m\u001b[0m\u001b[0m\n\u001b[0m\u001b[0;32m      7\u001b[0m \u001b[0mdb\u001b[0m \u001b[1;33m=\u001b[0m \u001b[0mfirestore\u001b[0m\u001b[1;33m.\u001b[0m\u001b[0mclient\u001b[0m\u001b[1;33m(\u001b[0m\u001b[1;33m)\u001b[0m\u001b[1;33m\u001b[0m\u001b[1;33m\u001b[0m\u001b[0m\n\u001b[0;32m      8\u001b[0m \u001b[0mdoc_ref\u001b[0m \u001b[1;33m=\u001b[0m \u001b[0mdb\u001b[0m\u001b[1;33m.\u001b[0m\u001b[0mcollection\u001b[0m\u001b[1;33m(\u001b[0m\u001b[1;34mu'users'\u001b[0m\u001b[1;33m)\u001b[0m\u001b[1;33m.\u001b[0m\u001b[0mdocument\u001b[0m\u001b[1;33m(\u001b[0m\u001b[1;34mu'abc'\u001b[0m\u001b[1;33m)\u001b[0m\u001b[1;33m\u001b[0m\u001b[1;33m\u001b[0m\u001b[0m\n",
      "\u001b[1;32m~\\AppData\\Roaming\\Python\\Python38\\site-packages\\firebase_admin\\__init__.py\u001b[0m in \u001b[0;36minitialize_app\u001b[1;34m(credential, options, name)\u001b[0m\n\u001b[0;32m     69\u001b[0m \u001b[1;33m\u001b[0m\u001b[0m\n\u001b[0;32m     70\u001b[0m     \u001b[1;32mif\u001b[0m \u001b[0mname\u001b[0m \u001b[1;33m==\u001b[0m \u001b[0m_DEFAULT_APP_NAME\u001b[0m\u001b[1;33m:\u001b[0m\u001b[1;33m\u001b[0m\u001b[1;33m\u001b[0m\u001b[0m\n\u001b[1;32m---> 71\u001b[1;33m         raise ValueError((\n\u001b[0m\u001b[0;32m     72\u001b[0m             \u001b[1;34m'The default Firebase app already exists. This means you called '\u001b[0m\u001b[1;33m\u001b[0m\u001b[1;33m\u001b[0m\u001b[0m\n\u001b[0;32m     73\u001b[0m             \u001b[1;34m'initialize_app() more than once without providing an app name as '\u001b[0m\u001b[1;33m\u001b[0m\u001b[1;33m\u001b[0m\u001b[0m\n",
      "\u001b[1;31mValueError\u001b[0m: The default Firebase app already exists. This means you called initialize_app() more than once without providing an app name as the second argument. In most cases you only need to call initialize_app() once. But if you do want to initialize multiple apps, pass a second argument to initialize_app() to give each app a unique name."
     ]
    }
   ],
   "source": [
    "import firebase_admin\n",
    "from firebase_admin import credentials\n",
    "from firebase_admin import firestore\n",
    "\"\"\n",
    "cred = credentials.Certificate(\"lu-project-c0452-firebase-adminsdk-uqxyy-2a3e19115f.json\")\n",
    "firebase_admin.initialize_app(cred)\n",
    "db = firestore.client()\n",
    "doc_ref = db.collection(u'users').document(u'abc')\n",
    "doc_ref.set({\n",
    "    u'first': u'swarup',\n",
    "    u'last': u'patel',\n",
    "    u'born': 1993\n",
    "})\n",
    "\n",
    "def enterDataInDB():\n",
    "    doc_ref = db.collection(u'tenantList').document()\n",
    "    \n",
    "    name = input(\"Enter Name - \")\n",
    "    lastName = input(\"Enter Last Name - \")\n",
    "    age = int(input(\"Enter Age - \"))\n",
    "    \n",
    "    dit = {}\n",
    "    dit[\"firstName\"] = name\n",
    "    dit[\"lastName\"] = lastName\n",
    "    dit[\"age\"] = age\n",
    "    \n",
    "    doc_ref.set(dit)\n",
    "    \n",
    "docs = db.collection(u'LetsUpgradeUsers').stream()\n",
    "for doc in docs:\n",
    "    \n",
    "    print(\"ID - \", doc.id)\n",
    "    \n",
    "    print(\"First Name - \", doc.to_dict().get(\"firstName\"))\n",
    "    print(\"Last Name - \", doc.to_dict().get(\"lastName\"))\n",
    "    print(\"Age - \", doc.to_dict().get(\"age\") )\n",
    "    \n",
    "    print(\"---------------\")\n",
    "    print(\"---------------\")\n",
    "    \n",
    "def updateDatainFirebase(uid, updatedAge):\n",
    "    doc_ref = db.collection(u'LetsUpgradeUsers').document(uid)\n",
    "    doc_ref.update({\"age\":updatedAge})\n",
    "    \n",
    "def deleteDataInFirebase(uid):\n",
    "    db.collection(u'LetsUpgradeUsers').document(uid).delete()"
   ]
  },
  {
   "cell_type": "code",
   "execution_count": null,
   "metadata": {},
   "outputs": [],
   "source": []
  }
 ],
 "metadata": {
  "kernelspec": {
   "display_name": "Python 3",
   "language": "python",
   "name": "python3"
  },
  "language_info": {
   "codemirror_mode": {
    "name": "ipython",
    "version": 3
   },
   "file_extension": ".py",
   "mimetype": "text/x-python",
   "name": "python",
   "nbconvert_exporter": "python",
   "pygments_lexer": "ipython3",
   "version": "3.8.5"
  }
 },
 "nbformat": 4,
 "nbformat_minor": 4
}

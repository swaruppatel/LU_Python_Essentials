{
 "cells": [
  {
   "cell_type": "code",
   "execution_count": 1,
   "metadata": {},
   "outputs": [
    {
     "name": "stdout",
     "output_type": "stream",
     "text": [
      "Requirement already satisfied: emails in c:\\users\\swaru\\anaconda3\\lib\\site-packages (0.6)\n",
      "Requirement already satisfied: premailer in c:\\users\\swaru\\anaconda3\\lib\\site-packages (from emails) (3.7.0)\n",
      "Requirement already satisfied: chardet in c:\\users\\swaru\\anaconda3\\lib\\site-packages (from emails) (3.0.4)\n",
      "Requirement already satisfied: requests in c:\\users\\swaru\\anaconda3\\lib\\site-packages (from emails) (2.24.0)\n",
      "Requirement already satisfied: python-dateutil in c:\\users\\swaru\\anaconda3\\lib\\site-packages (from emails) (2.8.1)\n",
      "Requirement already satisfied: cssutils in c:\\users\\swaru\\anaconda3\\lib\\site-packages (from emails) (1.0.2)\n",
      "Requirement already satisfied: lxml in c:\\users\\swaru\\anaconda3\\lib\\site-packages (from emails) (4.6.1)\n",
      "Requirement already satisfied: cachetools in c:\\users\\swaru\\anaconda3\\lib\\site-packages (from premailer->emails) (4.2.0)\n",
      "Requirement already satisfied: cssselect in c:\\users\\swaru\\anaconda3\\lib\\site-packages (from premailer->emails) (1.1.0)\n",
      "Requirement already satisfied: idna<3,>=2.5 in c:\\users\\swaru\\anaconda3\\lib\\site-packages (from requests->emails) (2.10)\n",
      "Requirement already satisfied: urllib3!=1.25.0,!=1.25.1,<1.26,>=1.21.1 in c:\\users\\swaru\\anaconda3\\lib\\site-packages (from requests->emails) (1.25.11)\n",
      "Requirement already satisfied: certifi>=2017.4.17 in c:\\users\\swaru\\anaconda3\\lib\\site-packages (from requests->emails) (2020.6.20)\n",
      "Requirement already satisfied: six>=1.5 in c:\\users\\swaru\\anaconda3\\lib\\site-packages (from python-dateutil->emails) (1.15.0)\n"
     ]
    }
   ],
   "source": [
    "!pip install emails"
   ]
  },
  {
   "cell_type": "code",
   "execution_count": 4,
   "metadata": {},
   "outputs": [
    {
     "name": "stdout",
     "output_type": "stream",
     "text": [
      "250\n"
     ]
    }
   ],
   "source": [
    "import emails\n",
    "def send_mails(toEmail, subjectLine, name, uname, pwd):\n",
    "\n",
    "  html_text = '''<p><span style=\"font-family: Courier New, courier;\"><span style=\"background-color: rgb(257, 190, 120);\">HEY,</span>&nbsp;\n",
    "\t\n",
    "\t</span></p><p><span style=\"font-family: Courier New, courier;\"><br></span></p><p><span style=\"font-family: Courier New, courier;\">This is a test mail from swarup,&nbsp;</span></p><p><span style=\"font-family: Courier New, courier;\"><br></span></p><p><span style=\"font-family: Courier New, courier;\">Regards,&nbsp;</span></p><p><strong><span style=\"font-family: Courier New, courier;\">Swarup Kumar Patel</span></strong></p><p></p>'''\n",
    "  mail = emails.html(html=html_text,\n",
    "                     subject=subjectLine,\n",
    "                     mail_from=(name, uname))\n",
    "  message = mail.send(to=toEmail, smtp={'host': 'smtp.gmail.com', 'timeout': 5, 'port': 587, 'user': uname, 'password': pwd, 'tls': True})\n",
    "  return message.status_code\n",
    "            \n",
    "print(send_mails(\"wivite8766@ahhtee.com\", \"test mail\", \"name\", \"demo@gmail.com\", \"password\"))"
   ]
  },
  {
   "cell_type": "code",
   "execution_count": null,
   "metadata": {},
   "outputs": [],
   "source": []
  }
 ],
 "metadata": {
  "kernelspec": {
   "display_name": "Python 3",
   "language": "python",
   "name": "python3"
  },
  "language_info": {
   "codemirror_mode": {
    "name": "ipython",
    "version": 3
   },
   "file_extension": ".py",
   "mimetype": "text/x-python",
   "name": "python",
   "nbconvert_exporter": "python",
   "pygments_lexer": "ipython3",
   "version": "3.8.5"
  }
 },
 "nbformat": 4,
 "nbformat_minor": 4
}

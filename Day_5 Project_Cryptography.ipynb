{
 "cells": [
  {
   "cell_type": "code",
   "execution_count": null,
   "metadata": {},
   "outputs": [],
   "source": [
    "!pip install cryptography"
   ]
  },
  {
   "cell_type": "code",
   "execution_count": 7,
   "metadata": {},
   "outputs": [
    {
     "name": "stdout",
     "output_type": "stream",
     "text": [
      "Generated password is: b'KPfPFQNx5-kHhX0TByXEPYnBsFX6AnovYGzMVdyY2rA='\n",
      "fetched key pass is-  b'KPfPFQNx5-kHhX0TByXEPYnBsFX6AnovYGzMVdyY2rA='\n",
      "Enter the message you would like to encrypt: 123456789\n",
      "Message b'123456789' encrypted to b'gAAAAABf2uQ0nlNhNMwF2JOD6S47bVmVwzCmX_gDLyH4wgSo_pclzzrvMFFssuyfmwMyJZnN_PoJKydvmfX57u2Ky55telyaLw=='\n",
      "Message b'gAAAAABf2uQ0nlNhNMwF2JOD6S47bVmVwzCmX_gDLyH4wgSo_pclzzrvMFFssuyfmwMyJZnN_PoJKydvmfX57u2Ky55telyaLw==' decrypted to b'123456789'\n"
     ]
    },
    {
     "data": {
      "text/plain": [
       "b'123456789'"
      ]
     },
     "execution_count": 7,
     "metadata": {},
     "output_type": "execute_result"
    }
   ],
   "source": [
    "from cryptography.fernet import Fernet\n",
    "\n",
    "def generate_pass():\n",
    "  key = Fernet.generate_key()\n",
    "  password_file = open(\"password.key\",\"wb\")\n",
    "  password_file.write(key)\n",
    "  password_file.close()\n",
    "  print(f\"Generated password is: {key}\")\n",
    "\n",
    "def get_keypass():\n",
    "  password_file = open(\"password.key\",\"rb\")\n",
    "  key = password_file.read()\n",
    "  print(\"fetched key pass is- \",key)\n",
    "  return key\n",
    "\n",
    "def get_userContent():\n",
    "    return bytes (input(\"Enter the message you would like to encrypt: \"), \"utf-8\")\n",
    "\n",
    "def encrypt_content(content, passkey):\n",
    "  f = Fernet(passkey)\n",
    "  encrypted_message = f.encrypt(content)\n",
    "  print(f\"Message {content} encrypted to {encrypted_message}\")\n",
    "  return encrypted_message\n",
    "\n",
    "def decrypt_content(message, passkey):\n",
    "  f = Fernet(passkey)\n",
    "  decrypted_message = f.decrypt(message)\n",
    "  print(f\"Message {message} decrypted to {decrypted_message}\")\n",
    "  return decrypted_message\n",
    "\n",
    "generate_pass()\n",
    "passkey = get_keypass()\n",
    "content = get_userContent()\n",
    "encrypted_message = encrypt_content(content, passkey)\n",
    "decrypt_content(encrypted_message, passkey)"
   ]
  },
  {
   "cell_type": "code",
   "execution_count": null,
   "metadata": {},
   "outputs": [],
   "source": []
  }
 ],
 "metadata": {
  "kernelspec": {
   "display_name": "Python 3",
   "language": "python",
   "name": "python3"
  },
  "language_info": {
   "codemirror_mode": {
    "name": "ipython",
    "version": 3
   },
   "file_extension": ".py",
   "mimetype": "text/x-python",
   "name": "python",
   "nbconvert_exporter": "python",
   "pygments_lexer": "ipython3",
   "version": "3.8.5"
  }
 },
 "nbformat": 4,
 "nbformat_minor": 4
}

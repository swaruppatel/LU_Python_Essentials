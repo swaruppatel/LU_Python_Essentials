{
 "cells": [
  {
   "cell_type": "markdown",
   "metadata": {},
   "source": [
    "# Question 1\n",
    "Try 5 Different functions of the String in Python.\n",
    "For example - index, split function."
   ]
  },
  {
   "cell_type": "code",
   "execution_count": 16,
   "metadata": {},
   "outputs": [
    {
     "name": "stdout",
     "output_type": "stream",
     "text": [
      "My name is swarup kumar patel\n",
      "MY NAME IS SWARUP KUMAR PATEL\n",
      "my name is swarup kumar patel\n",
      "m aei wrpkmrPtl\n",
      "['my', 'name', 'is', 'swarup', 'kumar', 'Patel']\n"
     ]
    }
   ],
   "source": [
    "s = \"my name is swarup kumar Patel\"\n",
    "print(s.capitalize())\n",
    "print(s.upper())\n",
    "print(s.lower())\n",
    "print(s[0::2])\n",
    "print(s.split(\" \"))"
   ]
  },
  {
   "cell_type": "markdown",
   "metadata": {},
   "source": [
    "# Question 2\n",
    "Try 5 Different functions of the List object in Python"
   ]
  },
  {
   "cell_type": "code",
   "execution_count": 45,
   "metadata": {},
   "outputs": [
    {
     "name": "stdout",
     "output_type": "stream",
     "text": [
      "[1, 2, 9, 10, 8, 0, 10]\n",
      "[1, 2, 9, 10, 8, 0]\n",
      "[1, 9, 10, 8, 0]\n",
      "[0, 1, 8, 9, 10]\n",
      "[10, 9, 8, 1, 0]\n"
     ]
    }
   ],
   "source": [
    "l = [1,2,9,10,8,0]\n",
    "\n",
    "# 1\n",
    "l.append(10)\n",
    "print(l)\n",
    "\n",
    "# 2\n",
    "l.pop() \n",
    "print(l)\n",
    "\n",
    "# 3\n",
    "l.remove(2)\n",
    "print(l)\n",
    "\n",
    "# 4\n",
    "l.sort()\n",
    "print(l)\n",
    "\n",
    "# 5\n",
    "l.reverse()\n",
    "print(l)"
   ]
  },
  {
   "cell_type": "markdown",
   "metadata": {},
   "source": [
    "# Question 3\n",
    "Experiment with at least 5 default functions of Dictionary"
   ]
  },
  {
   "cell_type": "code",
   "execution_count": 73,
   "metadata": {},
   "outputs": [
    {
     "name": "stdout",
     "output_type": "stream",
     "text": [
      "dict_items([('key1', 'cars'), ('Key2', 'bikes'), ('Key3', 'cycle')])\n",
      "dict_keys(['key1', 'Key2', 'Key3'])\n",
      "dict_values(['cars', 'bikes', 'cycle'])\n",
      "cycle\n",
      "bikes\n"
     ]
    }
   ],
   "source": [
    "d = {\"key1\": \"cars\", \"Key2\": \"bikes\", \"Key3\": \"cycle\"}\n",
    "\n",
    "# 1\n",
    "print(d.items())\n",
    "\n",
    "# 2\n",
    "print(d.keys())\n",
    "\n",
    "#3\n",
    "print(d.values())\n",
    "\n",
    "#4\n",
    "print(d.pop(\"Key3\"))\n",
    "\n",
    "# 5\n",
    "print(d.get(\"Key2\"))"
   ]
  },
  {
   "cell_type": "code",
   "execution_count": null,
   "metadata": {},
   "outputs": [],
   "source": []
  }
 ],
 "metadata": {
  "kernelspec": {
   "display_name": "Python 3",
   "language": "python",
   "name": "python3"
  },
  "language_info": {
   "codemirror_mode": {
    "name": "ipython",
    "version": 3
   },
   "file_extension": ".py",
   "mimetype": "text/x-python",
   "name": "python",
   "nbconvert_exporter": "python",
   "pygments_lexer": "ipython3",
   "version": "3.8.5"
  }
 },
 "nbformat": 4,
 "nbformat_minor": 4
}
